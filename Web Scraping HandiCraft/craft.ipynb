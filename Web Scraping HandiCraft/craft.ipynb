{
 "cells": [
  {
   "cell_type": "code",
   "execution_count": 1,
   "metadata": {},
   "outputs": [],
   "source": [
    "import pandas as pd\n",
    "import numpy as np\n",
    "import requests\n",
    "from bs4 import BeautifulSoup"
   ]
  },
  {
   "cell_type": "code",
   "execution_count": 2,
   "metadata": {},
   "outputs": [],
   "source": [
    "headers={'User-Agent':'Mozilla/5.0 (Windows NT 6.3; Win 64 ; x64) Apple WeKit /537.36(KHTML , like Gecko) Chrome/80.0.3987.162 Safari/537.36'}"
   ]
  },
  {
   "cell_type": "code",
   "execution_count": 4,
   "metadata": {},
   "outputs": [],
   "source": [
    "web =  requests.get(\"https://exclusivelane.com/collections/spice-boxes/products/twelve-blends-spice-box-with-12-containers-spoon-in-sheesham-wood-el-005-614\", headers=headers).text\n",
    "soup = BeautifulSoup(web)"
   ]
  },
  {
   "cell_type": "code",
   "execution_count": 10,
   "metadata": {},
   "outputs": [],
   "source": [
    "desc = soup.find_all('div',class_='collapsible-content__inner rte')"
   ]
  },
  {
   "cell_type": "code",
   "execution_count": 18,
   "metadata": {},
   "outputs": [],
   "source": [
    " desc  = desc[0].find_all('p')"
   ]
  },
  {
   "cell_type": "code",
   "execution_count": 29,
   "metadata": {},
   "outputs": [
    {
     "data": {
      "text/plain": [
       "<p><strong>FEATURES:</strong><br/>\n",
       "<br/> - Ideal for storing 12 different types spices or refreshments.<br/> - Can also be used to store knick-knacks or used as a medicine box after removing the containers.<br/> - Comes with 12 detachable containers (45 ML) and a spoon inside made of sheesham wood.<br/> - The volume of each container is 45 ML.<br/> - Comes with 12 containers, 1 box &amp; 1 spoon.<br/> - The box is polished with a food safe lacquer.<br/> - Comes with a see-through lid made of glass.<br/> - Comes with a metallic lock on the front.<br/> - The Spice Box is Handcrafted in Sheesham Wood and Polished with Food Safe Lacquer.<br/> - Comes in brown colour.<br/> - Comes in the following dimensions:<br/> SPICE BOX: 9.9\" (L), 7.7\" (W), 2.1\" (H),<br/> CONTAINERS: 2.2\" (L), 2.2\" (W), 1.1\" (H),<br/> SPOON: 5.5\" (L), 0.9\" (W) Inches in size.</p>"
      ]
     },
     "execution_count": 29,
     "metadata": {},
     "output_type": "execute_result"
    }
   ],
   "source": [
    "desc[8]"
   ]
  },
  {
   "cell_type": "code",
   "execution_count": 30,
   "metadata": {},
   "outputs": [
    {
     "data": {
      "text/plain": [
       "'FEATURES:\\n - Ideal for storing 12 different types spices or refreshments. - Can also be used to store knick-knacks or used as a medicine box after removing the containers. - Comes with 12 detachable containers (45 ML) and a spoon inside made of sheesham wood. - The volume of each container is 45 ML. - Comes with 12 containers, 1 box & 1 spoon. - The box is polished with a food safe lacquer. - Comes with a see-through lid made of glass. - Comes with a metallic lock on the front. - The Spice Box is Handcrafted in Sheesham Wood and Polished with Food Safe Lacquer. - Comes in brown colour. - Comes in the following dimensions: SPICE BOX: 9.9\" (L), 7.7\" (W), 2.1\" (H), CONTAINERS: 2.2\" (L), 2.2\" (W), 1.1\" (H), SPOON: 5.5\" (L), 0.9\" (W) Inches in size.'"
      ]
     },
     "execution_count": 30,
     "metadata": {},
     "output_type": "execute_result"
    }
   ],
   "source": [
    "desc[8].text"
   ]
  },
  {
   "cell_type": "code",
   "execution_count": null,
   "metadata": {},
   "outputs": [],
   "source": []
  }
 ],
 "metadata": {
  "kernelspec": {
   "display_name": "Python 3.11.1 64-bit",
   "language": "python",
   "name": "python3"
  },
  "language_info": {
   "codemirror_mode": {
    "name": "ipython",
    "version": 3
   },
   "file_extension": ".py",
   "mimetype": "text/x-python",
   "name": "python",
   "nbconvert_exporter": "python",
   "pygments_lexer": "ipython3",
   "version": "3.11.1"
  },
  "orig_nbformat": 4,
  "vscode": {
   "interpreter": {
    "hash": "1a1af0ee75eeea9e2e1ee996c87e7a2b11a0bebd85af04bb136d915cefc0abce"
   }
  }
 },
 "nbformat": 4,
 "nbformat_minor": 2
}
