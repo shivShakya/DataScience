{
 "cells": [
  {
   "cell_type": "code",
   "execution_count": 2,
   "metadata": {},
   "outputs": [],
   "source": [
    "import pandas as pd \n",
    "import numpy as np \n",
    "import requests\n",
    "from bs4 import BeautifulSoup"
   ]
  },
  {
   "cell_type": "code",
   "execution_count": 3,
   "metadata": {},
   "outputs": [],
   "source": [
    "headers={'User-Agent':'Mozilla/5.0 (Windows NT 6.3; Win 64 ; x64) Apple WeKit /537.36(KHTML , like Gecko) Chrome/80.0.3987.162 Safari/537.36'}"
   ]
  },
  {
   "cell_type": "code",
   "execution_count": 4,
   "metadata": {},
   "outputs": [],
   "source": [
    "web =  requests.get(\"https://exclusivelane.com/collections/spice-boxes\", headers=headers).text\n",
    "toup = BeautifulSoup(web)"
   ]
  },
  {
   "cell_type": "code",
   "execution_count": 5,
   "metadata": {},
   "outputs": [
    {
     "data": {
      "text/plain": [
       "<a class=\"grid-item__link\" href=\"/collections/spice-boxes/products/twelve-blends-spice-box-with-12-containers-spoon-in-sheesham-wood-el-005-614\">\n",
       "<div class=\"grid-product__image-wrap\">\n",
       "<div class=\"grid-product__tags\"><div class=\"grid-product__tag grid-product__tag--sale\">\n",
       "              Sale\n",
       "            </div></div><div class=\"grid__image-ratio grid__image-ratio--square\">\n",
       "<img alt=\"\" class=\"lazyloadImg-TW lazyload lazyload grid__image-contain\" data-aspectratio=\"1.0\" data-sizes=\"auto\" data-src=\"//cdn.shopify.com/s/files/1/0030/9759/1872/products/EL-005-614_A_{width}x.jpg?v=1600838418\" data-widths=\"[160, 200, 280, 360, 540, 720, 900]\"/>\n",
       "<noscript>\n",
       "<img alt=\"\" class=\"grid-product__image lazyloaded lazyloadImg-TW\" data-src=\"//cdn.shopify.com/s/files/1/0030/9759/1872/products/EL-005-614_A_400x.jpg?v=1600838418\"/>\n",
       "</noscript>\n",
       "</div><div class=\"grid-product__secondary-image small--hide\"><img alt=\"\" class=\"lazyload lazyloadImg-TW\" data-aspectratio=\"1.0\" data-sizes=\"auto\" data-src=\"//cdn.shopify.com/s/files/1/0030/9759/1872/products/EL-005-614_B_{width}x.jpg?v=1678516078\" data-widths=\"[360, 540, 720, 1000]\"/>\n",
       "</div>\n",
       "<span class=\"Best_sale\">\n",
       "           Best Seller\n",
       "         </span>\n",
       "</div>\n",
       "<div class=\"grid-item__meta\">\n",
       "<div class=\"grid-item__meta-main\"><div class=\"grid-product__title\">\"Twelve Blends\" Spice Box With 12 Containers &amp; Spoon In Sheesham Wood</div>\n",
       "<div class=\"jdgm-widget jdgm-preview-badge\" data-auto-install=\"false\" data-id=\"4192873742400\" data-template=\"collection\" style=\"\">\n",
       "<div class=\"jdgm-prev-badge\" data-average-rating=\"4.88\" data-number-of-questions=\"0\" data-number-of-reviews=\"8\" style=\"display:none\"> <span aria-label=\"4.88 stars\" class=\"jdgm-prev-badge__stars\" data-score=\"4.88\" role=\"button\" tabindex=\"0\"> <span class=\"jdgm-star jdgm--on\"></span><span class=\"jdgm-star jdgm--on\"></span><span class=\"jdgm-star jdgm--on\"></span><span class=\"jdgm-star jdgm--on\"></span><span class=\"jdgm-star jdgm--on\"></span> </span> <span class=\"jdgm-prev-badge__text\"> 8 reviews </span> </div>\n",
       "</div>\n",
       "</div>\n",
       "<div class=\"grid-item__meta-secondary\">\n",
       "<div class=\"grid-product__price\"><span class=\"visually-hidden\">Sale price</span><span class=\"grid-product__price--current\"><span aria-hidden=\"true\">Rs. 1,340</span>\n",
       "<span class=\"visually-hidden\">Rs. 1,340</span>\n",
       "</span><span class=\"visually-hidden\">Regular price</span>\n",
       "<span class=\"grid-product__price--original\"><span aria-hidden=\"true\">Rs. 1,970</span>\n",
       "<span class=\"visually-hidden\">Rs. 1,970</span>\n",
       "</span><span class=\"grid-product_price--savings\">\n",
       "                  (32% Off)\n",
       "                </span></div>\n",
       "</div>\n",
       "</div>\n",
       "</a>"
      ]
     },
     "execution_count": 5,
     "metadata": {},
     "output_type": "execute_result"
    }
   ],
   "source": [
    "products =  toup.find_all('a',class_ = 'grid-item__link')\n",
    "products[0]\n"
   ]
  },
  {
   "cell_type": "code",
   "execution_count": 6,
   "metadata": {},
   "outputs": [
    {
     "data": {
      "text/plain": [
       "'spice-boxes'"
      ]
     },
     "execution_count": 6,
     "metadata": {},
     "output_type": "execute_result"
    }
   ],
   "source": [
    "category =  products[6].get('href')\n",
    "category.split('/')[2]"
   ]
  },
  {
   "cell_type": "code",
   "execution_count": 7,
   "metadata": {},
   "outputs": [
    {
     "data": {
      "text/plain": [
       "'\"Twelve Blends\" Spice Box With 12 Containers & Spoon In Sheesham Wood'"
      ]
     },
     "execution_count": 7,
     "metadata": {},
     "output_type": "execute_result"
    }
   ],
   "source": [
    "products[0].find('div','grid-product__title').text.strip()\n"
   ]
  },
  {
   "cell_type": "code",
   "execution_count": 8,
   "metadata": {},
   "outputs": [],
   "source": [
    "image =  products[2].find('img','grid-product__image lazyloaded lazyloadImg-TW')\n",
    "image =image.get('data-src')\n",
    "image = image.split('?')[0]\n"
   ]
  },
  {
   "cell_type": "code",
   "execution_count": 9,
   "metadata": {},
   "outputs": [
    {
     "data": {
      "text/plain": [
       "'1,384'"
      ]
     },
     "execution_count": 9,
     "metadata": {},
     "output_type": "execute_result"
    }
   ],
   "source": [
    "price = products[5].find('span','grid-product__price--current').text.strip()\n",
    "price = price.split('\\n')[0]\n",
    "price[4:]"
   ]
  },
  {
   "cell_type": "code",
   "execution_count": 10,
   "metadata": {},
   "outputs": [],
   "source": [
    "webpages =  requests.get(\"https://exclusivelane.com\", headers=headers).text"
   ]
  },
  {
   "cell_type": "code",
   "execution_count": 11,
   "metadata": {},
   "outputs": [],
   "source": [
    "soup = BeautifulSoup(webpages)"
   ]
  },
  {
   "cell_type": "code",
   "execution_count": 12,
   "metadata": {},
   "outputs": [],
   "source": [
    "links = [i.get('href') for i in soup.find_all('a','collection-item')]"
   ]
  },
  {
   "cell_type": "code",
   "execution_count": 15,
   "metadata": {},
   "outputs": [],
   "source": [
    "all_name = []\n",
    "all_img = []\n",
    "all_price = []\n",
    "all_category = []"
   ]
  },
  {
   "cell_type": "code",
   "execution_count": 16,
   "metadata": {},
   "outputs": [],
   "source": [
    "for i in range(len(links)):   \n",
    "      webpage =  requests.get(\"https://exclusivelane.com\"+links[i], headers=headers).text\n",
    "      poop = BeautifulSoup(webpage)\n",
    "      products =  poop.find_all('a',class_ = 'grid-item__link')\n",
    "      for i in range(len(products)):\n",
    "            #name\n",
    "            name =  products[i].find('div','grid-product__title').text.strip()\n",
    "            all_name.append(name)\n",
    "            #image\n",
    "            image =  products[i].find('img','grid-product__image lazyloaded lazyloadImg-TW')\n",
    "            image = image.get('data-src')\n",
    "            image = image.split('?')[0]\n",
    "            image = image[2:]\n",
    "            all_img.append(image)\n",
    "            #price\n",
    "            price = products[i].find('span','grid-product__price--current').text.strip()\n",
    "            price = price.split('\\n')[0]\n",
    "            price = price[4:]\n",
    "            all_price.append(price)\n",
    "            #category\n",
    "            category =  products[i].get('href')\n",
    "            category =  category.split('/')[2]\n",
    "            all_category.append(category)\n",
    "\n",
    "              "
   ]
  },
  {
   "cell_type": "code",
   "execution_count": 19,
   "metadata": {},
   "outputs": [],
   "source": [
    "df = pd.DataFrame(list(zip(all_name,all_price,all_category,all_img)) ,columns=['name','price','category','image_link'])\n"
   ]
  },
  {
   "cell_type": "code",
   "execution_count": 21,
   "metadata": {},
   "outputs": [
    {
     "data": {
      "text/html": [
       "<div>\n",
       "<style scoped>\n",
       "    .dataframe tbody tr th:only-of-type {\n",
       "        vertical-align: middle;\n",
       "    }\n",
       "\n",
       "    .dataframe tbody tr th {\n",
       "        vertical-align: top;\n",
       "    }\n",
       "\n",
       "    .dataframe thead th {\n",
       "        text-align: right;\n",
       "    }\n",
       "</style>\n",
       "<table border=\"1\" class=\"dataframe\">\n",
       "  <thead>\n",
       "    <tr style=\"text-align: right;\">\n",
       "      <th></th>\n",
       "      <th>name</th>\n",
       "      <th>price</th>\n",
       "      <th>category</th>\n",
       "      <th>image_link</th>\n",
       "    </tr>\n",
       "  </thead>\n",
       "  <tbody>\n",
       "    <tr>\n",
       "      <th>0</th>\n",
       "      <td>\"Twelve Blends\" Spice Box With 12 Containers &amp;...</td>\n",
       "      <td>1,340</td>\n",
       "      <td>spice-boxes</td>\n",
       "      <td>cdn.shopify.com/s/files/1/0030/9759/1872/produ...</td>\n",
       "    </tr>\n",
       "    <tr>\n",
       "      <th>1</th>\n",
       "      <td>Sheesham Wood Square Spice Box With Spoon (9 C...</td>\n",
       "      <td>993</td>\n",
       "      <td>spice-boxes</td>\n",
       "      <td>cdn.shopify.com/s/files/1/0030/9759/1872/produ...</td>\n",
       "    </tr>\n",
       "    <tr>\n",
       "      <th>2</th>\n",
       "      <td>Sheesham Wood Square Spice Box With Spoon (9 C...</td>\n",
       "      <td>1,199</td>\n",
       "      <td>spice-boxes</td>\n",
       "      <td>cdn.shopify.com/s/files/1/0030/9759/1872/produ...</td>\n",
       "    </tr>\n",
       "    <tr>\n",
       "      <th>3</th>\n",
       "      <td>Sheesham Wood Circular Spice Box With Floral W...</td>\n",
       "      <td>3,299</td>\n",
       "      <td>spice-boxes</td>\n",
       "      <td>cdn.shopify.com/s/files/1/0030/9759/1872/produ...</td>\n",
       "    </tr>\n",
       "    <tr>\n",
       "      <th>4</th>\n",
       "      <td>'Floral-Etched' Handcrafted Spice Box In Brass...</td>\n",
       "      <td>3,208</td>\n",
       "      <td>spice-boxes</td>\n",
       "      <td>cdn.shopify.com/s/files/1/0030/9759/1872/produ...</td>\n",
       "    </tr>\n",
       "    <tr>\n",
       "      <th>...</th>\n",
       "      <td>...</td>\n",
       "      <td>...</td>\n",
       "      <td>...</td>\n",
       "      <td>...</td>\n",
       "    </tr>\n",
       "    <tr>\n",
       "      <th>475</th>\n",
       "      <td>\"The Mughal Paich Daar\" Hand-Painted Serving F...</td>\n",
       "      <td>1,149</td>\n",
       "      <td>made-in-stailness-steel</td>\n",
       "      <td>cdn.shopify.com/s/files/1/0030/9759/1872/produ...</td>\n",
       "    </tr>\n",
       "    <tr>\n",
       "      <th>476</th>\n",
       "      <td>\"The Mughal Patti\" Hand-Painted Table Knives I...</td>\n",
       "      <td>1,124</td>\n",
       "      <td>made-in-stailness-steel</td>\n",
       "      <td>cdn.shopify.com/s/files/1/0030/9759/1872/produ...</td>\n",
       "    </tr>\n",
       "    <tr>\n",
       "      <th>477</th>\n",
       "      <td>\"The Mughal Aakar\" Hand-Painted Cake Server &amp; ...</td>\n",
       "      <td>1,149</td>\n",
       "      <td>made-in-stailness-steel</td>\n",
       "      <td>cdn.shopify.com/s/files/1/0030/9759/1872/produ...</td>\n",
       "    </tr>\n",
       "    <tr>\n",
       "      <th>478</th>\n",
       "      <td>\"The Mughal Paich Daar\" Hand-Painted Table Kni...</td>\n",
       "      <td>1,199</td>\n",
       "      <td>made-in-stailness-steel</td>\n",
       "      <td>cdn.shopify.com/s/files/1/0030/9759/1872/produ...</td>\n",
       "    </tr>\n",
       "    <tr>\n",
       "      <th>479</th>\n",
       "      <td>\"The Mughal Zahri\" Hand-Painted Table Spoons I...</td>\n",
       "      <td>1,124</td>\n",
       "      <td>made-in-stailness-steel</td>\n",
       "      <td>cdn.shopify.com/s/files/1/0030/9759/1872/produ...</td>\n",
       "    </tr>\n",
       "  </tbody>\n",
       "</table>\n",
       "<p>480 rows × 4 columns</p>\n",
       "</div>"
      ],
      "text/plain": [
       "                                                  name  price  \\\n",
       "0    \"Twelve Blends\" Spice Box With 12 Containers &...  1,340   \n",
       "1    Sheesham Wood Square Spice Box With Spoon (9 C...    993   \n",
       "2    Sheesham Wood Square Spice Box With Spoon (9 C...  1,199   \n",
       "3    Sheesham Wood Circular Spice Box With Floral W...  3,299   \n",
       "4    'Floral-Etched' Handcrafted Spice Box In Brass...  3,208   \n",
       "..                                                 ...    ...   \n",
       "475  \"The Mughal Paich Daar\" Hand-Painted Serving F...  1,149   \n",
       "476  \"The Mughal Patti\" Hand-Painted Table Knives I...  1,124   \n",
       "477  \"The Mughal Aakar\" Hand-Painted Cake Server & ...  1,149   \n",
       "478  \"The Mughal Paich Daar\" Hand-Painted Table Kni...  1,199   \n",
       "479  \"The Mughal Zahri\" Hand-Painted Table Spoons I...  1,124   \n",
       "\n",
       "                    category  \\\n",
       "0                spice-boxes   \n",
       "1                spice-boxes   \n",
       "2                spice-boxes   \n",
       "3                spice-boxes   \n",
       "4                spice-boxes   \n",
       "..                       ...   \n",
       "475  made-in-stailness-steel   \n",
       "476  made-in-stailness-steel   \n",
       "477  made-in-stailness-steel   \n",
       "478  made-in-stailness-steel   \n",
       "479  made-in-stailness-steel   \n",
       "\n",
       "                                            image_link  \n",
       "0    cdn.shopify.com/s/files/1/0030/9759/1872/produ...  \n",
       "1    cdn.shopify.com/s/files/1/0030/9759/1872/produ...  \n",
       "2    cdn.shopify.com/s/files/1/0030/9759/1872/produ...  \n",
       "3    cdn.shopify.com/s/files/1/0030/9759/1872/produ...  \n",
       "4    cdn.shopify.com/s/files/1/0030/9759/1872/produ...  \n",
       "..                                                 ...  \n",
       "475  cdn.shopify.com/s/files/1/0030/9759/1872/produ...  \n",
       "476  cdn.shopify.com/s/files/1/0030/9759/1872/produ...  \n",
       "477  cdn.shopify.com/s/files/1/0030/9759/1872/produ...  \n",
       "478  cdn.shopify.com/s/files/1/0030/9759/1872/produ...  \n",
       "479  cdn.shopify.com/s/files/1/0030/9759/1872/produ...  \n",
       "\n",
       "[480 rows x 4 columns]"
      ]
     },
     "execution_count": 21,
     "metadata": {},
     "output_type": "execute_result"
    }
   ],
   "source": [
    "df"
   ]
  },
  {
   "cell_type": "code",
   "execution_count": null,
   "metadata": {},
   "outputs": [],
   "source": [
    "df.to_csv('Product.csv')"
   ]
  },
  {
   "cell_type": "code",
   "execution_count": 23,
   "metadata": {},
   "outputs": [],
   "source": [
    "df.head()\n",
    "df['price'] = df['price'].str.replace(',','')\n",
    "df['price'] = df['price'].astype(int)"
   ]
  },
  {
   "cell_type": "code",
   "execution_count": 27,
   "metadata": {},
   "outputs": [
    {
     "data": {
      "text/plain": [
       "name          object\n",
       "price          int64\n",
       "category      object\n",
       "image_link    object\n",
       "dtype: object"
      ]
     },
     "execution_count": 27,
     "metadata": {},
     "output_type": "execute_result"
    }
   ],
   "source": [
    "df.dtypes"
   ]
  },
  {
   "cell_type": "code",
   "execution_count": 28,
   "metadata": {},
   "outputs": [],
   "source": [
    "df.to_csv('Product.csv')"
   ]
  },
  {
   "cell_type": "code",
   "execution_count": 206,
   "metadata": {},
   "outputs": [
    {
     "data": {
      "text/plain": [
       "name      object\n",
       "price      int64\n",
       "review     int64\n",
       "dtype: object"
      ]
     },
     "execution_count": 206,
     "metadata": {},
     "output_type": "execute_result"
    }
   ],
   "source": [
    "df.dtypes"
   ]
  },
  {
   "cell_type": "code",
   "execution_count": 207,
   "metadata": {},
   "outputs": [],
   "source": [
    "df.to_csv('craft.csv')"
   ]
  }
 ],
 "metadata": {
  "kernelspec": {
   "display_name": "Python 3.11.1 64-bit",
   "language": "python",
   "name": "python3"
  },
  "language_info": {
   "codemirror_mode": {
    "name": "ipython",
    "version": 3
   },
   "file_extension": ".py",
   "mimetype": "text/x-python",
   "name": "python",
   "nbconvert_exporter": "python",
   "pygments_lexer": "ipython3",
   "version": "3.11.1"
  },
  "orig_nbformat": 4,
  "vscode": {
   "interpreter": {
    "hash": "1a1af0ee75eeea9e2e1ee996c87e7a2b11a0bebd85af04bb136d915cefc0abce"
   }
  }
 },
 "nbformat": 4,
 "nbformat_minor": 2
}
